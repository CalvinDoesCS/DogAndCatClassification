{
  "nbformat": 4,
  "nbformat_minor": 0,
  "metadata": {
    "colab": {
      "provenance": [],
      "toc_visible": true,
      "include_colab_link": true
    },
    "kernelspec": {
      "name": "python3",
      "display_name": "Python 3"
    },
    "language_info": {
      "name": "python"
    }
  },
  "cells": [
    {
      "cell_type": "markdown",
      "metadata": {
        "id": "view-in-github",
        "colab_type": "text"
      },
      "source": [
        "<a href=\"https://colab.research.google.com/github/CalvinDoesCS/DogAndCatClassification/blob/main/Classifer.ipynb\" target=\"_parent\"><img src=\"https://colab.research.google.com/assets/colab-badge.svg\" alt=\"Open In Colab\"/></a>"
      ]
    },
    {
      "cell_type": "code",
      "source": [
        "#Import Dog and Cat Dataset from GitHub\n",
        "!wget --no-check-certificate \\\n",
        "    \"https://github.com/CalvinDoesCS/dog-cat-full-dataset/archive/refs/heads/main.zip\" \\\n",
        "    -O \"/tmp/dog_cat_data.zip\"\n",
        "\n",
        "import os, shutil\n",
        "from zipfile import ZipFile\n",
        "\n",
        "try:\n",
        "  #Extracts zip file from rep \n",
        "  with ZipFile('/tmp/dog_cat_data.zip', 'r') as f:\n",
        "    f.extractall('./temp')\n",
        "  #Extract the zipfile in rep\n",
        "  with ZipFile('/content/temp/dog-cat-full-dataset-main/dog_cat_data.zip', 'r') as f:\n",
        "    f.extractall('./')\n",
        "finally:\n",
        "  #Delete all contents in temp folder and temp\n",
        "  folder = '/content/temp'\n",
        "  for filename in os.listdir(folder):\n",
        "      file_path = os.path.join(folder, filename)\n",
        "      try:\n",
        "          if os.path.isfile(file_path) or os.path.islink(file_path):\n",
        "              os.unlink(file_path)\n",
        "          elif os.path.isdir(file_path):\n",
        "              shutil.rmtree(file_path)\n",
        "      except Exception as e:\n",
        "          print('Failed to delete %s. Reason: %s' % (file_path, e))\n",
        "  os.rmdir(folder)"
      ],
      "metadata": {
        "colab": {
          "base_uri": "https://localhost:8080/"
        },
        "id": "88hnF4mTNE8w",
        "outputId": "b66b329c-73c0-44d2-9795-52f89ffffeab"
      },
      "execution_count": 7,
      "outputs": [
        {
          "output_type": "stream",
          "name": "stdout",
          "text": [
            "--2023-03-22 15:53:39--  https://github.com/CalvinDoesCS/dog-cat-full-dataset/archive/refs/heads/main.zip\n",
            "Resolving github.com (github.com)... 140.82.113.4\n",
            "Connecting to github.com (github.com)|140.82.113.4|:443... connected.\n",
            "HTTP request sent, awaiting response... 302 Found\n",
            "Location: https://codeload.github.com/CalvinDoesCS/dog-cat-full-dataset/zip/refs/heads/main [following]\n",
            "--2023-03-22 15:53:39--  https://codeload.github.com/CalvinDoesCS/dog-cat-full-dataset/zip/refs/heads/main\n",
            "Resolving codeload.github.com (codeload.github.com)... 140.82.112.9\n",
            "Connecting to codeload.github.com (codeload.github.com)|140.82.112.9|:443... connected.\n",
            "HTTP request sent, awaiting response... 200 OK\n",
            "Length: unspecified [application/zip]\n",
            "Saving to: ‘/tmp/dog_cat_data.zip’\n",
            "\n",
            "/tmp/dog_cat_data.z     [          <=>       ] 216.24M   111MB/s    in 1.9s    \n",
            "\n",
            "2023-03-22 15:53:53 (111 MB/s) - ‘/tmp/dog_cat_data.zip’ saved [226740705]\n",
            "\n"
          ]
        }
      ]
    }
  ]
}